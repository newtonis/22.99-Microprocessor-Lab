{
  "nbformat": 4,
  "nbformat_minor": 0,
  "metadata": {
    "colab": {
      "name": "Te damos la bienvenida a Colaboratory",
      "provenance": [],
      "collapsed_sections": [],
      "include_colab_link": true
    },
    "kernelspec": {
      "display_name": "Python 3",
      "name": "python3"
    }
  },
  "cells": [
    {
      "cell_type": "markdown",
      "metadata": {
        "id": "view-in-github",
        "colab_type": "text"
      },
      "source": [
        "<a href=\"https://colab.research.google.com/github/newtonis/LABO_DE_MICROS/blob/master/Distribucion%20de%201%20y%200%20en%20Input%20Capture.ipynb\" target=\"_parent\"><img src=\"https://colab.research.google.com/assets/colab-badge.svg\" alt=\"Open In Colab\"/></a>"
      ]
    },
    {
      "cell_type": "code",
      "metadata": {
        "id": "_V-WDoYEOvKV",
        "colab_type": "code",
        "colab": {
          "base_uri": "https://localhost:8080/",
          "height": 313
        },
        "outputId": "1adad194-fbc9-4e5e-a155-332127d587e0"
      },
      "source": [
        "import matplotlib.pyplot as plt\n",
        "import numpy as np\n",
        "meds = [9435, 111914, 10002, 10740, 18946, 18279, 121044, 11100, 15875, 7216, 7124, 15711, 123969, 7126, 7653, 7138, 15710, 7103, 7120, 16207, 7100, 7130,\n",
        "6477, 10158, 10759, 112805, 10026, 11092, 15863, 7221, 7128, 115365, 7324, 7131, 7493, 7142, 15708, 123963, 7133, 15832, 15639, 7224, 7129, 15710,\n",
        "6708, 10109, 119973, 15839, 7215, 123948, 7628, 7145, 75, 111899, 10001, 10744, 18267, 10014, 10394, 121140, 10734, 18268, 10011, 11033, 19149, 10003,\n",
        "9044, 112493, 9988, 10401, 9940, 120329, 18271, 10017, 11088, 16370, 15631, 7216, 7124, 115363, 7105, 7128, 115240, 7220, 7124, 123452, 7144, 15832,\n",
        "7015, 7118, 15703, 7102, 7129, 7491, 7138, 15707, 7103, 123943, 15831, 7221, 123941, 15708, 7316, 7128, 7498, 7140, 115363, 7108, 7123, 115241,\n",
        "3949, 15766, 123855, 7129, 15713, 7099, 7114, 15831, 7208, 7121, 7664, 123932, 15833, 7212, 123953, 15712, 7098, 7124, 7499, 7131, 115359, 7104,\n",
        "3720, 8434, 115091, 7214, 7116, 115361, 7311, 7124, 7498, 7132, 15712, 7225, 7118, 15823, 15630, 7210, 123946, 15705, 7093, 7123, 15829, 7209,\n",
        "127381, 8399, 7684, 7143, 115238, 7210, 7122, 115333, 7098, 7116, 7499, 7128, 15707, 7092, 7122, 15822, 7207, 7122, 15703, 7299, 7120, 7498,\n",
        "6191, 15673, 7093, 7116, 15954, 115444, 7211, 7120, 115363, 7104, 7115, 15831, 7212, 7125, 7644, 7139, 15833, 7206, 7119, 15710, 7094, 7128,\n",
        "6460, 120915, 10759, 18274, 121038, 11036, 19176, 121078, 10742, 18595, 9988, 10394, 9939, 120334, 18265, 10012, 119975, 15878, 15633, 7219, 7122, 15714,\n",
        "6699, 10118, 11097, 15850, 7206, 7119, 7620, 6965, 15826, 7211, 7121, 15710, 123975, 7125, 7501, 7129, 15714, 7096, 7116, 15827, 7207, 7119,\n",
        "15009, 7305, 123950, 7500, 7130, 15711, 7098, 7114, 115236, 15638, 7210, 7122, 15747, 123972, 7128, 74, 19174, 9989, 10302, 9920, 119981, 15877,\n",
        "7020, 7119, 15707, 7100, 123946, 7494, 7136, 15708, 7103, 7124, 115238, 7227, 7126, 115360, 7319, 7132, 123570, 7145, 15710, 123966, 7130, 15829,\n",
        "15487, 7216, 7124, 15706, 7101, 123940, 15827, 7215, 123945, 7618, 7143, 115237, 7222, 7129, 115363, 7110, 7124, 123578, 7143, 15709, 123964, 7127,\n",
        "15187, 7212, 7125, 15708, 7473, 7136, 7332, 123939, 15828, 7220, 123941, 15709, 115521, 7109, 7123, 90, 19165, 10003, 10739, 18259, 10028, 10774,\n",
        "8490, 179, 15722, 7099, 7117, 15828, 7210, 7118, 7369, 7129, 15823, 7211, 123952, 15700, 7095, 7125, 15827, 7307, 7198, 7325, 7126, 115253,\n",
        "3952, 7390, 7132, 115360, 15545, 123979, 7117, 15830, 7205, 7112, 15707, 7091, 7113, 7645, 123936, 15706, 7088, 123957, 15828, 7209, 7118, 7325,\n",
        "3669, 8431, 115094, 7217, 7118, 115365, 7100, 7119, 115245, 7305, 7126, 7321, 7130, 15830, 7210, 7119, 15705, 15544, 7095, 123949, 15826, 7209,\n",
        "3696, 8430, 15765, 7092, 7122, 7648, 7140, 115368, 7096, 7124, 115239, 7204, 7118, 7319, 7122, 15832, 7203, 7115, 15705, 7088, 7120, 15952,\n",
        "7080, 7113, 7323, 7129, 15825, 7215, 7123, 15709, 115531, 7105, 7127, 115243, 7219, 7124, 15709, 7098, 7128, 7650, 7143, 15726, 7098, 7126\n",
        "\t\n",
        "]\n",
        "\n",
        "#ploteo de las energías de u en histograma para NLMS\n",
        "n, bins, patches = plt.hist(x=meds, bins=100, color='#0504aa',\n",
        "                            alpha=0.7, rwidth=0.85)\n",
        "plt.grid(axis='y', alpha=0.75)\n",
        "plt.xlabel('Value')\n",
        "plt.ylabel('Frequency')\n",
        "plt.title('Histograma de las energías de u')\n",
        "maxfreq = n.max()\n",
        "# Set a clean upper y-axis limit.\n",
        "plt.ylim(ymax=np.ceil(maxfreq / 10) * 10 if maxfreq % 10 else maxfreq + 10)"
      ],
      "execution_count": 14,
      "outputs": [
        {
          "output_type": "execute_result",
          "data": {
            "text/plain": [
              "(0.0, 230.0)"
            ]
          },
          "metadata": {
            "tags": []
          },
          "execution_count": 14
        },
        {
          "output_type": "display_data",
          "data": {
            "image/png": "[encoded data removed]",
            "text/plain": [
              "<Figure size 432x288 with 1 Axes>"
            ]
          },
          "metadata": {
            "tags": []
          }
        }
      ]
    },
    {
      "cell_type": "code",
      "metadata": {
        "id": "k3nos7O1QuuH",
        "colab_type": "code",
        "colab": {
          "base_uri": "https://localhost:8080/",
          "height": 295
        },
        "outputId": "c5b09243-1a9d-458f-d5d8-4f4eaa6d4b80"
      },
      "source": [
        "meds_buenos = []\n",
        "for m in meds:\n",
        "    if m < 30000 and m >  4000:\n",
        "        meds_buenos.append(m)\n",
        "\n",
        "#ploteo de las energías de u en histograma para NLMS\n",
        "n, bins, patches = plt.hist(x=meds_buenos, bins=100, color='#0504aa',\n",
        "                            alpha=0.7, rwidth=0.85)\n",
        "plt.grid(axis='y', alpha=0.75)\n",
        "plt.xlabel('Value')\n",
        "plt.ylabel('Frequency')\n",
        "plt.title('Histograma de las energías de u')\n",
        "maxfreq = n.max()\n",
        "# Set a clean upper y-axis limit.\n",
        "plt.ylim(ymax=np.ceil(maxfreq / 10) * 10 if maxfreq % 10 else maxfreq + 10)\n",
        "plt.yscale('log')"
      ],
      "execution_count": 16,
      "outputs": [
        {
          "output_type": "display_data",
          "data": {
            "image/png": "[encoded data removed]",
            "text/plain": [
              "<Figure size 432x288 with 1 Axes>"
            ]
          },
          "metadata": {
            "tags": []
          }
        }
      ]
    }
  ]
}